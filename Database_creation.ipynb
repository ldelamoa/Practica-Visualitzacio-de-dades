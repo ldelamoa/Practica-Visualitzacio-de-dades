{
 "cells": [
  {
   "cell_type": "code",
   "execution_count": null,
   "id": "538189c6",
   "metadata": {},
   "outputs": [],
   "source": [
    "import pandas as pd"
   ]
  },
  {
   "cell_type": "markdown",
   "id": "fba64092",
   "metadata": {},
   "source": [
    "## Creació Dataset 1: Estudis"
   ]
  },
  {
   "cell_type": "code",
   "execution_count": null,
   "id": "13e66318",
   "metadata": {},
   "outputs": [],
   "source": [
    "df_doc_0 = pd.read_excel('RC.01.DNI.-Nou-Ingres-Doctorat-EEES_descarregar.xlsx', skiprows=3)\n",
    "df_doc_1 = pd.read_excel('RC.02.DM.-Matricula-Doctorat-EEES-_descarregar.xlsx', skiprows=3)\n",
    "df_doc_2 = pd.read_excel('RC.03.DT.-Tesis-llegides_descarregar.xlsx', skiprows=3)\n",
    "\n",
    "df_merged = pd.merge(df_doc_0, df_doc_1, on=[\"Curs Acadèmic\", \"Tipus universitat\", \"Universitat\", \"Sigles\", \"Branca\", \"Sexe\"], how='outer')\n",
    "df_doc = pd.merge(df_merged, df_doc_2, on=[\"Curs Acadèmic\", \"Tipus universitat\", \"Universitat\", \"Sigles\", \"Branca\", \"Sexe\"], how='outer')\n",
    "\n",
    "df_doc['Tipus Estudi']='doctorat'\n",
    "df_doc.rename(columns={'Nou ingrés doctorat EEES': 'Nombre ingressos'}, inplace=True)\n",
    "df_doc.rename(columns={'Matrícules doctorats EEES': 'Nombre matrícules'}, inplace=True)\n",
    "df_doc.rename(columns={'Tesis llegides': 'Nombre titulats'}, inplace=True)\n",
    "\n",
    "df_doc['Nombre ingressos'] = pd.to_numeric(df_doc['Nombre ingressos'], errors='coerce')\n",
    "df_doc['Nombre matrícules'] = pd.to_numeric(df_doc['Nombre matrícules'], errors='coerce')\n",
    "df_doc['Nombre titulats'] = pd.to_numeric(df_doc['Nombre titulats'], errors='coerce')\n",
    "\n",
    "df_doc = df_doc[['Curs Acadèmic',\n",
    " 'Tipus universitat',\n",
    " 'Universitat',\n",
    " 'Sigles',\n",
    " 'Tipus Estudi',\n",
    " 'Branca',\n",
    " 'Sexe',\n",
    " 'Nombre ingressos',\n",
    " 'Nombre matrícules',\n",
    " 'Nombre titulats']]\n",
    "print(df_doc.shape)\n",
    "df_doc.head()"
   ]
  },
  {
   "cell_type": "code",
   "execution_count": null,
   "id": "c3b00681",
   "metadata": {},
   "outputs": [],
   "source": [
    "df = pd.read_excel('OM.02.NI.-Nou-Ingres-a-graus-i-masters_descarregar.xlsx', skiprows=3)\n",
    "df = df.drop(columns=['Unitat', 'Codi Estudi', 'Estudi', 'Tipus centre'])\n",
    "df['Nombre ingressos'] = pd.to_numeric(df['Nombre ingressos'], errors='coerce')\n",
    "df_grouped_ingres = df.groupby(['Curs Acadèmic', 'Tipus universitat', 'Universitat', 'Sigles', 'Tipus Estudi', 'Branca', 'Sexe']).agg({'Nombre ingressos': 'sum'}).reset_index()\n",
    "\n",
    "print(df_grouped_ingres.shape)\n",
    "df_grouped_ingres.head()"
   ]
  },
  {
   "cell_type": "code",
   "execution_count": null,
   "id": "d2081386",
   "metadata": {},
   "outputs": [],
   "source": [
    "df_doc.describe()"
   ]
  },
  {
   "cell_type": "code",
   "execution_count": null,
   "id": "669563e9",
   "metadata": {},
   "outputs": [],
   "source": [
    "df = pd.read_excel('OM.03.M.-Matricula-_descarregar.xlsx', skiprows=3)\n",
    "df = df.drop(columns=['Unitat', 'Codi Estudi', 'Estudi', 'Tipus centre'])\n",
    "df['Nombre matrícules'] = pd.to_numeric(df['Nombre matrícules'], errors='coerce')\n",
    "df_grouped_matr = df.groupby(['Curs Acadèmic', 'Tipus universitat', 'Universitat', 'Sigles', 'Tipus Estudi', 'Branca', 'Sexe']).agg({'Nombre matrícules': 'sum'}).reset_index()\n",
    "\n",
    "print(df_grouped_matr.shape)\n",
    "df_grouped_matr.head()"
   ]
  },
  {
   "cell_type": "code",
   "execution_count": null,
   "id": "4ef11603",
   "metadata": {},
   "outputs": [],
   "source": [
    "df = pd.read_excel('G.01.Tt.Gm.-Titulats_descarregar.xlsx', skiprows=3)\n",
    "df = df.drop(columns=['Unitat', 'Codi Estudi', 'Estudi', 'Tipus centre'])\n",
    "df['Nombre titulats'] = pd.to_numeric(df['Nombre titulats'], errors='coerce')\n",
    "df_grouped_tit = df.groupby(['Curs Acadèmic', 'Tipus universitat', 'Universitat', 'Sigles', 'Tipus estudi', 'Branca', 'Sexe']).agg({'Nombre titulats': 'sum'}).reset_index()\n",
    "df_grouped_tit.rename(columns={'Tipus estudi': 'Tipus Estudi'}, inplace=True)\n",
    "\n",
    "print(df_grouped_tit.shape)\n",
    "df_grouped_tit.head()"
   ]
  },
  {
   "cell_type": "code",
   "execution_count": null,
   "id": "1a6fc601",
   "metadata": {},
   "outputs": [],
   "source": [
    "df = pd.read_excel('R.01.TR.Taxa-de-rendiment_descarregar.xlsx', skiprows=3)\n",
    "df = df.drop(columns=['Unitat', 'Estudi', 'Tipus centre'])\n",
    "df['Crèdits ordinaris superats'] = pd.to_numeric(df['Crèdits ordinaris superats'], errors='coerce')\n",
    "df['Crèdits ordinaris matriculats'] = pd.to_numeric(df['Crèdits ordinaris matriculats'], errors='coerce')\n",
    "df_grouped_rend = df.groupby(['Curs Acadèmic', 'Tipus universitat', 'Universitat', 'Sigles', 'Tipus Estudi', 'Branca', 'Sexe']).agg({\n",
    "    'Crèdits ordinaris superats': 'sum',\n",
    "    'Crèdits ordinaris matriculats': 'sum'\n",
    "}).reset_index()\n",
    "\n",
    "df_grouped_rend['Taxa de rendiment']= df['Crèdits ordinaris superats']/df['Crèdits ordinaris matriculats']\n",
    "print(df_grouped_rend.shape)\n",
    "df_grouped_rend.head()"
   ]
  },
  {
   "cell_type": "code",
   "execution_count": null,
   "id": "c326ecb9",
   "metadata": {},
   "outputs": [],
   "source": [
    "df_merged = pd.merge(df_grouped_ingres, df_grouped_matr, on=[\"Curs Acadèmic\", \"Tipus universitat\", \"Universitat\", \"Sigles\", \"Tipus Estudi\", \"Branca\", \"Sexe\"], how='inner')\n",
    "df_all = pd.merge(df_merged, df_grouped_tit, on=[\"Curs Acadèmic\", \"Tipus universitat\", \"Universitat\", \"Sigles\", \"Tipus Estudi\", \"Branca\", \"Sexe\"], how='inner')\n",
    "\n",
    "df_all = pd.concat([df_all, df_doc], axis = 0)\n",
    "df_all['Taxa de nous ingressos'] = df_all['Nombre ingressos']/df_all['Nombre matrícules']\n",
    "df_all['Taxa de titulació'] = df_all['Nombre titulats']/df_all['Nombre matrícules']\n",
    "\n",
    "print(df_all.shape)\n",
    "df_all.head()"
   ]
  },
  {
   "cell_type": "code",
   "execution_count": null,
   "id": "4b19fa1a",
   "metadata": {},
   "outputs": [],
   "source": [
    "df_all = pd.merge(df_all, df_grouped_rend, on=[\"Curs Acadèmic\", \"Tipus universitat\", \"Universitat\", \"Sigles\", \"Tipus Estudi\", \"Branca\", \"Sexe\"], how='left')\n",
    "print(df_all.shape)\n",
    "df_all.head()"
   ]
  },
  {
   "cell_type": "code",
   "execution_count": null,
   "id": "0b4ac502",
   "metadata": {},
   "outputs": [],
   "source": [
    "df_all.to_csv('dataset1.csv')"
   ]
  },
  {
   "cell_type": "markdown",
   "id": "2b8aabc6",
   "metadata": {},
   "source": [
    "## Creació Dataset 2: Moviments"
   ]
  },
  {
   "cell_type": "code",
   "execution_count": null,
   "id": "12b2e7f1",
   "metadata": {},
   "outputs": [],
   "source": [
    "df1 = pd.read_excel('M.01.Mx.-Alumnes-marxen_descarregar.xlsx', skiprows=3)\n",
    "\n",
    "df2 = pd.read_excel('M.02.Vn.-Alumnes-venen_descarregar.xlsx', skiprows=3)\n",
    "\n",
    "mov = pd.merge(df1, df2, on=[\"Curs Acadèmic\", \"Tipus universitat\", \"Universitat\", \"Sigles\", \"Branca\", \"País\", \"Sexe\"], how='outer')\n",
    "print(mov.shape)\n",
    "mov.head()"
   ]
  },
  {
   "cell_type": "code",
   "execution_count": null,
   "id": "aa477eeb",
   "metadata": {},
   "outputs": [],
   "source": [
    "mov.to_csv('dataset2.csv')"
   ]
  },
  {
   "cell_type": "code",
   "execution_count": null,
   "id": "d04922e9",
   "metadata": {},
   "outputs": [],
   "source": []
  }
 ],
 "metadata": {
  "kernelspec": {
   "display_name": "Python 3 (ipykernel)",
   "language": "python",
   "name": "python3"
  },
  "language_info": {
   "codemirror_mode": {
    "name": "ipython",
    "version": 3
   },
   "file_extension": ".py",
   "mimetype": "text/x-python",
   "name": "python",
   "nbconvert_exporter": "python",
   "pygments_lexer": "ipython3",
   "version": "3.9.7"
  }
 },
 "nbformat": 4,
 "nbformat_minor": 5
}
